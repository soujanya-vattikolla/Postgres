{
  "nbformat": 4,
  "nbformat_minor": 0,
  "metadata": {
    "colab": {
      "name": "PostgreSQL.ipynb",
      "provenance": [],
      "collapsed_sections": [],
      "authorship_tag": "ABX9TyMhEnPCfuKWX8Yo9rMIAro9",
      "include_colab_link": true
    },
    "kernelspec": {
      "name": "python3",
      "display_name": "Python 3"
    },
    "language_info": {
      "name": "python"
    }
  },
  "cells": [
    {
      "cell_type": "markdown",
      "metadata": {
        "id": "view-in-github",
        "colab_type": "text"
      },
      "source": [
        "<a href=\"https://colab.research.google.com/github/soujanya-vattikolla/Postgres/blob/main/PostgreSQL.ipynb\" target=\"_parent\"><img src=\"https://colab.research.google.com/assets/colab-badge.svg\" alt=\"Open In Colab\"/></a>"
      ]
    },
    {
      "cell_type": "markdown",
      "source": [
        "**What is a Database?**"
      ],
      "metadata": {
        "id": "aCwWuBd57a8G"
      }
    },
    {
      "cell_type": "markdown",
      "source": [
        "* Store data\n",
        "* Manipulate data\n",
        "* Retrieve data"
      ],
      "metadata": {
        "id": "bzqhKzsc80vt"
      }
    },
    {
      "cell_type": "markdown",
      "source": [
        "Postgres is the actual database engine.<br>\n",
        "SQL is the structured query language.<br>\n",
        "SQL is a programming language.<br>\n",
        "* Manage data held in a relational database.\n",
        "* Easy to learn"
      ],
      "metadata": {
        "id": "ttICDO3P8-Z7"
      }
    },
    {
      "cell_type": "markdown",
      "source": [
        "**How data is stored.**\n",
        "* Stores data in tables\n",
        "* Columns\n",
        "* rows"
      ],
      "metadata": {
        "id": "7Pfjbg0HAEEM"
      }
    },
    {
      "cell_type": "markdown",
      "source": [
        "**What is PostgreSQL**\n",
        "* Open source Relational Database\n",
        "* Object relational database management system."
      ],
      "metadata": {
        "id": "VWWZqPdeAqYu"
      }
    },
    {
      "cell_type": "markdown",
      "source": [
        "**Create a database**<br>\n",
        "**syntax:**<br>\n",
        "* CREATE DATABASE databasename;\n",
        "* eg: CREATE DATABASE test;\n",
        "* to view the databses:<br>\n",
        "\\l"
      ],
      "metadata": {
        "id": "oflvj4iRA5CU"
      }
    },
    {
      "cell_type": "markdown",
      "source": [
        "**Connect to database**<br>\n",
        "* In the terminal give: \\connect databasename\n",
        "* ex: \\connect test"
      ],
      "metadata": {
        "id": "QErjyCjuIV_G"
      }
    },
    {
      "cell_type": "markdown",
      "source": [
        "**Drop database**:\n",
        "* DROP DATABASE databasename"
      ],
      "metadata": {
        "id": "LtXXX7u6MJOE"
      }
    },
    {
      "cell_type": "markdown",
      "source": [
        "**How to create a table:**\n",
        "* CREATE TABLE table_name ( Column_name +data type+ constraints if any)\n",
        "* ex:\n",
        "CREATE TABLE PERSON ( id int, name varchar(50), gender varchar(20))"
      ],
      "metadata": {
        "id": "W1lQTMSmMc2D"
      }
    },
    {
      "cell_type": "markdown",
      "source": [
        "**Creating Tables Without Constraints**<br>\n",
        "CREATE TABLE person (id INT, first_name VARCHAR(50), last_name VARCHAR(50),gender VARCHAR(7),date_of_birth DATE);"
      ],
      "metadata": {
        "id": "RjQ1N1mJMsuJ"
      }
    },
    {
      "cell_type": "markdown",
      "source": [
        "**To describe a table:**\n",
        "* \\d tablename<br>\n",
        "ex: \\d person"
      ],
      "metadata": {
        "id": "9BilNpK5pzvM"
      }
    },
    {
      "cell_type": "markdown",
      "source": [
        "**DROP a TABLE**<br>\n",
        "* DROP TABLE tablename <br>\n",
        "ex: DROP TABLE person;"
      ],
      "metadata": {
        "id": "MjxbE7ALrHMg"
      }
    },
    {
      "cell_type": "markdown",
      "source": [
        "**Creating Tables With Constraints**<br>\n",
        "\n",
        "CREATE TABLE person( id BIGSERIAL NOT NULL PRIMARY KEY, first_name VARCHAR(50) NOT NULL, last_name VARCHAR(50) NOT NULL, gender VARCHAR(7) NOT NULL,date_of_birth DATE NOT NULL, email VARCHAR(150) ); <br>\n",
        "\n",
        "* BIGSERIAL means the id gets auto incremented"
      ],
      "metadata": {
        "id": "D4zOqsxup-3K"
      }
    },
    {
      "cell_type": "markdown",
      "source": [
        "**Insert records into tables:**<br>\n",
        "INSERT INTO person (first_name, last_name, gender, date_of_birth) \n",
        "VALUES ('Anne', 'Smith', 'Female', DATE '1988-01-10');<br>\n",
        "\n",
        "INSERT INTO person (first_name, last_name, gender, date_of_birth,email) \n",
        "VALUES ('Jake', 'Jones', 'Male', DATE '1990-12-31','jake@gmail.com');\n"
      ],
      "metadata": {
        "id": "Ya7KBIyYq6N5"
      }
    },
    {
      "cell_type": "markdown",
      "source": [
        "**To know values in a table:** **SELECT**\n",
        "* SELECT * FROM tablename<br>\n",
        "* Ex: SELECT * FROM person"
      ],
      "metadata": {
        "id": "HBau3Nv_xdm5"
      }
    },
    {
      "cell_type": "markdown",
      "source": [
        "**To generate data:**\n",
        "* Go to Mockaroo, lets you generate up to 1,000 rows test data.\n",
        "* go to POSTgreSQL shell, type: \\i (path of the downloaded file)\n",
        "* The data gets loaded into the table."
      ],
      "metadata": {
        "id": "RuqSdA-hyrbF"
      }
    },
    {
      "cell_type": "markdown",
      "source": [
        "**Order By**<br>\n",
        "We can sort the data by ascending or descending order. By default it is ordered by ascending order.<br>\n",
        "\n",
        "Ex: SELECT * FROM person ORDER BY country_of_birth;<br>\n",
        "SELECT * FROM person ORDER BY country_of_birth ASC;<br>\n",
        "SELECT * FROM person ORDER BY country_of_birth DESC;\n",
        "\n"
      ],
      "metadata": {
        "id": "05-LP2xv98Lf"
      }
    },
    {
      "cell_type": "markdown",
      "source": [
        "**Distinct**<br>\n",
        "It removes duplicate data from the table. <br>\n",
        "ex: SELECT DISTINCT country_of_birth FROM person ORDER BY country_of_birth;"
      ],
      "metadata": {
        "id": "kvV9m-1lC7zQ"
      }
    },
    {
      "cell_type": "markdown",
      "source": [
        "**WHERE clause AND**\n",
        "\n",
        "To filter the data based on the condition.<br>\n",
        "Ex: SELECT * FROM person WHERE gender = 'Female' AND country_of_birth = 'Nepal'"
      ],
      "metadata": {
        "id": "EAVJkZbpEZ28"
      }
    },
    {
      "cell_type": "markdown",
      "source": [
        "**Limit, Offset and Fetch**<br>\n",
        "We can limit the data in the table,<br>\n",
        "ex: SELECT * FROM person LIMIT 10; <br>\n",
        "\n",
        "**Offset:**<br>\n",
        "We get the values from id: 6 to id: 15 <br>\n",
        "ex: SELECT * FROM person OFFSET 5 LIMIT 10; <br>\n",
        "\n",
        "**FETCH**<br>\n",
        "It fetches the first 5 row data only.<br>\n",
        "ex: SELECT * FROM person OFFSET 5 FETCH FIRST 5 ROW ONLY:\n",
        "\n"
      ],
      "metadata": {
        "id": "SYqZGpvmLEaG"
      }
    },
    {
      "cell_type": "markdown",
      "source": [
        "**IN operator**<br>\n",
        "\n",
        "Ex: SELECT * FROM person where country_of_birth IN ('China','Greece','Russia');\n"
      ],
      "metadata": {
        "id": "Ecmr0htnMB-z"
      }
    },
    {
      "cell_type": "markdown",
      "source": [
        "**Between operator**<br>\n",
        "To select data in a range.\n",
        "ex: SELECT * FROM person WHERE date_of_birth BETWEEN DATE '2000-01-01' AND '2015-01-01';"
      ],
      "metadata": {
        "id": "C43oCoGlOwbT"
      }
    },
    {
      "cell_type": "markdown",
      "source": [
        "**LIKE and ILIKE**<br>\n",
        "Ex: SELECT * FROM person WHERE email like '%@jigsy.com';\n",
        "EX: SELECT * FROM person WHERE country_of_birth ILIKE 'p%';"
      ],
      "metadata": {
        "id": "KwgydWTDPWoC"
      }
    },
    {
      "cell_type": "markdown",
      "source": [
        "**Group By**<br>\n",
        "\n"
      ],
      "metadata": {
        "id": "0UlY-vF-Tx7G"
      }
    },
    {
      "cell_type": "code",
      "source": [
        "# ex: SELECT country_of_birth, COUNT(*) FROM person GROUP BY country_of_birth;\n",
        "# ex: SELECT country_of_birth, COUNT(*) FROM person GROUP BY country_of_birth order by country_of_birth;\n",
        "# ex: SELECT country_of_birth, COUNT(*) FROM person GROUP BY country_of_birth HAVING COUNT(*) <10 order by country_of_birth;"
      ],
      "metadata": {
        "id": "zWU77ObEVEpt"
      },
      "execution_count": null,
      "outputs": []
    },
    {
      "cell_type": "markdown",
      "source": [
        "**Min, Max & Average & SUM**<br>\n",
        "Ex:<br>\n",
        "* select max(price) from car;\n",
        "* select min(price) from car;\n",
        "* select avg(price) from car;\n",
        "* select round(avg(price)) from car;\n",
        "* select make, min(price) from car group by make;\n",
        "* select sum(price) from car;\n",
        "\n"
      ],
      "metadata": {
        "id": "pqQt6aoKTAi2"
      }
    },
    {
      "cell_type": "markdown",
      "source": [
        "Here discount of 10% is given:<br>\n",
        "* select id,make,model,price, price*.10 from car;<br>\n",
        "\n",
        "Here discount of 10% is given and price has been subtracted:\n",
        "* select id,make,model,price, round(price*.10,2), round(price - (price*.10),2) from car;"
      ],
      "metadata": {
        "id": "CTC0-Ub_XQPR"
      }
    },
    {
      "cell_type": "markdown",
      "source": [
        "**Alias**\n",
        "\n",
        "select id,make,model,price as original_price, round(price*.10,2) as discount_price, round(price - (price*.10),2) as final_price from car;\n"
      ],
      "metadata": {
        "id": "Z55KAUHeZLmJ"
      }
    },
    {
      "cell_type": "markdown",
      "source": [
        "**Coalesce**\n",
        "* Whenever we have a column, without any value then we can provide a value with Coalesce.\n",
        "\n",
        "* SELECT COALESCE(email, 'email not provided') from person;"
      ],
      "metadata": {
        "id": "syjhqs0dYdPH"
      }
    },
    {
      "cell_type": "markdown",
      "source": [
        "**NULL IF**\n",
        "\n",
        "* SELECT NULLIF(100,10);\n",
        "ans: 100\n",
        "\n",
        "* SELECT NULLIF(100,100);\n",
        "ans:   (is blank)"
      ],
      "metadata": {
        "id": "NaIirK9weqlR"
      }
    },
    {
      "cell_type": "markdown",
      "source": [
        "**Timestamps and Dates**\n",
        "\n",
        "* SELECT NOW();\n",
        "\n",
        "* SELECT NOW()::DATE;"
      ],
      "metadata": {
        "id": "KBCEJ3rcfhU2"
      }
    },
    {
      "cell_type": "markdown",
      "source": [
        "**Adding And Subtracting With Dates**\n",
        "\n",
        "* SELECT NOW() - INTERVAL '10 YEARS';\n",
        "\n",
        "* SELECT (NOW() + INTERVAL '10 MONTHS')::DATE;\n",
        " 2023-01-24\n",
        "\n",
        " * SELECT EXTRACT(MONTH FROM NOW());\n",
        "       3"
      ],
      "metadata": {
        "id": "gf2eF0-1f643"
      }
    },
    {
      "cell_type": "markdown",
      "source": [
        "**Age Function**\n",
        "\n",
        "* SELECT first_name, AGE(NOW(),date_of_birth) as age from person;"
      ],
      "metadata": {
        "id": "QL9Chxs-hahc"
      }
    },
    {
      "cell_type": "markdown",
      "source": [
        "**What Are Primary Keys**\n",
        "\n",
        "Primary keys are the one which uniquely identify record in tables."
      ],
      "metadata": {
        "id": "O1wlA4giiELl"
      }
    },
    {
      "cell_type": "markdown",
      "source": [
        "* When we want to alter a table\n",
        "* ALTER TABLE person ADD PRIMARY KEY(id);"
      ],
      "metadata": {
        "id": "Kb3xaxGIiZ27"
      }
    },
    {
      "cell_type": "markdown",
      "source": [
        "**Unique Constraint**"
      ],
      "metadata": {
        "id": "FplUfqycIeus"
      }
    },
    {
      "cell_type": "markdown",
      "source": [
        "Unique Constraint allows us to have unique value per column, whereas primary keys are used to identify unique row in a table and having an ini constraint.\n",
        "\n",
        "* Ex: Alter table person add constraint unique_email_address UNIQUE (email);"
      ],
      "metadata": {
        "id": "qSrP-ZgbIjcL"
      }
    },
    {
      "cell_type": "markdown",
      "source": [
        "Check constraints\n",
        "* Ex: ALTER table person add constraint gender_constraint check (gender = 'Female' or gender = 'Male');"
      ],
      "metadata": {
        "id": "g3drITZ4RiB4"
      }
    },
    {
      "cell_type": "markdown",
      "source": [
        "**Delete Records**\n",
        "\n",
        "* Ex: DELETE FROM tablename WHERE CONDITION;\n",
        "* DELETE FROM person WHERE gender='Male';"
      ],
      "metadata": {
        "id": "tR-p3dJ8UEvd"
      }
    },
    {
      "cell_type": "markdown",
      "source": [
        "**Update records**\n",
        "* UPDATE tablename SET condition where condition;\n",
        "* UPDATE person SET email = 'jsene@china.com.cn' where id = 686;"
      ],
      "metadata": {
        "id": "JDZYO0Z3VYPm"
      }
    },
    {
      "cell_type": "markdown",
      "source": [
        "**ON CONFLICT DO NOTHING**\n",
        "\n",
        "* ON CONFLICT (column name) DO NOTHING;<br>\n",
        "This will return no error and will not update anything, if the columns have unique or primary constraints.\n"
      ],
      "metadata": {
        "id": "-4ZSY-jBW7b4"
      }
    },
    {
      "cell_type": "markdown",
      "source": [
        "**Foreign Key**"
      ],
      "metadata": {
        "id": "tm3ps2kPRl5X"
      }
    },
    {
      "cell_type": "markdown",
      "source": [
        "A foreign key is a column that references a primary key in another table."
      ],
      "metadata": {
        "id": "PhbqaB8pSWhf"
      }
    },
    {
      "cell_type": "code",
      "source": [
        "Ex: CREATE TABLE Orders (\n",
        "    OrderID int NOT NULL,\n",
        "    OrderNumber int NOT NULL,\n",
        "    PersonID int,\n",
        "    PRIMARY KEY (OrderID),\n",
        "    FOREIGN KEY (PersonID) REFERENCES Persons(PersonID)\n",
        ");"
      ],
      "metadata": {
        "id": "xFczgSEK1-M8"
      },
      "execution_count": null,
      "outputs": []
    },
    {
      "cell_type": "markdown",
      "source": [
        "**JOINS**<br>\n",
        "\n",
        "Inner join:\n",
        "* ex: SELECT * FROM person JOIN car ON person.car_id=car.id;"
      ],
      "metadata": {
        "id": "5qdZBXxYYqv4"
      }
    },
    {
      "cell_type": "markdown",
      "source": [
        "LEFT JOIN:\n",
        "*  ex: SELECT * FROM person LEFT JOIN car ON person.car_id=car.id;"
      ],
      "metadata": {
        "id": "mnW5Ql2Hb6pM"
      }
    },
    {
      "cell_type": "markdown",
      "source": [
        "**Export result to CSV file:**\n",
        "\n",
        "Ex: \\copy (SELECT * FROM person) TO (pathname)/person.csv DELIMITER ',' CSV HEADER;"
      ],
      "metadata": {
        "id": "7SlC8HSGiV9V"
      }
    },
    {
      "cell_type": "markdown",
      "source": [
        "**Sequences:**\n",
        "\n",
        "Ex: select * from person_id_seq; <br>\n",
        "We get the result as last value in the id column."
      ],
      "metadata": {
        "id": "S3ZzoYkdi_G2"
      }
    },
    {
      "cell_type": "markdown",
      "source": [
        "**EXTENSIONS:**\n",
        "\n",
        "To know the available extensions:<br>\n",
        "\n",
        "SELECT * FROM pg_available_extensions;"
      ],
      "metadata": {
        "id": "ZHfwuiibkNyF"
      }
    },
    {
      "cell_type": "markdown",
      "source": [
        "**UUID Data Type**\n",
        "\n",
        "* Universally Unique Identifier\n",
        "* It allows us to have unique identifier whenever the identifier is generated."
      ],
      "metadata": {
        "id": "lNFaoBNPkVlk"
      }
    },
    {
      "cell_type": "code",
      "source": [
        "# Creating a UUID:\n",
        "# CREATE EXTENSION IF NOT EXISTS \"uuid-ossp\";"
      ],
      "metadata": {
        "id": "T91AjaPY7QV8"
      },
      "execution_count": null,
      "outputs": []
    }
  ]
}